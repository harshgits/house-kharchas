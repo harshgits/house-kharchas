{
 "cells": [
  {
   "cell_type": "code",
   "execution_count": null,
   "metadata": {},
   "outputs": [
    {
     "name": "stdout",
     "output_type": "stream",
     "text": [
      "\n",
      "sheet_df (original) =\n",
      "                       EXPLAINER        date spender  spend (x1k USD)              spend_description  todate_spend (x1k USD)  todate_spend_split (x1k USD)  todate_ownership_percent_split\n",
      "0  This sheet tracks the expe...  2025-02-03   Harsh              4.0               mortgage 2025-02                     NaN                           NaN                            NaN \n",
      "1                            NaN  2024-12-02    Aish              1.2  mortgage 2024-12 (gave Har...                     NaN                           NaN                            NaN \n",
      "\n",
      "sheet_df (todate section filled) =\n",
      "                       EXPLAINER        date spender  spend (x1k USD)              spend_description todate_spend (x1k USD) todate_spend_split (x1k USD) todate_ownership_percent_split\n",
      "0  This sheet tracks the expe...  2025-02-03   Harsh              4.0               mortgage 2025-02                    5.2  {'Aish': 1.2, 'Harsh': 4.0}  {'Aish': 23.1, 'Harsh': 76.9}\n",
      "1                            NaN  2024-12-02    Aish              1.2  mortgage 2024-12 (gave Har...                    1.2                {'Aish': 1.2}                {'Aish': 100.0}\n"
     ]
    }
   ],
   "source": [
    "from io import StringIO\n",
    "import pandas as pd\n",
    "\n",
    "# set the CSV raw data\n",
    "sheet = \"\"\"\n",
    "EXPLAINER,date,spender,spend (x1k USD),spend_description,todate_spend (x1k USD),todate_spend_split (x1k USD),todate_ownership_percent_split\n",
    "\"This sheet tracks the expenses and informal ownership split for the 402 Prospect property. The principle followed is that ownership percentage equals the total spend percentage. There are 3 sections in this sheet: (1) the explainer section, (2) the expenses section, (3) the to-date section.\n",
    "\n",
    "(1) The explainer section is this text and spans the column EXPLAINER.\n",
    "\n",
    "(2) The expenses section is a list of expenses made by the owners towards the property. This part spans the columns [date, spender, spend, spend_description]. The expenses are sorted in descending time order (newest first).\n",
    "\n",
    "(3) The to-date section expresses total to-date info about money spent and ownership-split. This section spans the columns [date, todate_spend, todate_spend_split, todate_ownership_percent_split]. Note that each row in this section summarizes all expenses made to-date i.e. each row expresses summary info covering the period from the oldest date in the sheet up to (and including) the date in that row.\",2025-02-03,Harsh,4,mortgage 2025-02,,,\n",
    ",2024-12-02,Aish,1.2,mortgage 2024-12 (gave Harsh Airbnb pay [Chloe $1115 12-02]),,,\n",
    "\"\"\"\n",
    "\n",
    "# read the CSV data into a DataFrame\n",
    "sheet_df = pd.read_csv(StringIO(sheet))\n",
    "\n",
    "print(\"\\nsheet_df (original) =\")\n",
    "with pd.option_context(\"display.width\", 1000, \"display.max_colwidth\", 30):\n",
    "    print(sheet_df)\n",
    "\n",
    "\n",
    "# fill the todate section of the sheet\n",
    "def update_todate_cols_in_sheet(sheet_df):\n",
    "    sheet_df = sheet_df.sort_values(by=[\"date\"], ascending=True)\n",
    "    sheet_df[\"spend (x1k USD)\"] = sheet_df[\"spend (x1k USD)\"].astype(float)\n",
    "    cumulative_spend = 0\n",
    "    cumulative_split = {}\n",
    "    todate_spends = []\n",
    "    todate_spend_splits = []\n",
    "    todate_ownership_percent_splits = []\n",
    "    for _, row in sheet_df.iterrows():\n",
    "        spender = row[\"spender\"]\n",
    "        spend = row[\"spend (x1k USD)\"]\n",
    "        cumulative_spend += spend\n",
    "        todate_spends.append(str(cumulative_spend))\n",
    "        cumulative_split[spender] = cumulative_split.get(spender, 0) + spend\n",
    "        todate_spend_splits.append(str(cumulative_split))\n",
    "        todate_ownership_percent_splits.append(\n",
    "            {\n",
    "                spender: round(cumulative_split[spender] / cumulative_spend * 100, 1)\n",
    "                for spender in cumulative_split\n",
    "            }\n",
    "        )\n",
    "    sheet_df[\"todate_spend (x1k USD)\"] = todate_spends\n",
    "    sheet_df[\"todate_ownership_percent_split\"] = todate_ownership_percent_splits\n",
    "    sheet_df[\"todate_spend_split (x1k USD)\"] = todate_spend_splits\n",
    "    sheet_df = sheet_df.sort_values(by=[\"date\"], ascending=False)\n",
    "    return sheet_df\n",
    "\n",
    "\n",
    "sheet_df = update_todate_cols_in_sheet(sheet_df)\n",
    "\n",
    "print(\"\\nsheet_df (todate section filled) =\")\n",
    "with pd.option_context(\"display.width\", 1000, \"display.max_colwidth\", 30):\n",
    "    print(sheet_df)"
   ]
  }
 ],
 "metadata": {
  "kernelspec": {
   "display_name": "sheet",
   "language": "python",
   "name": "python3"
  },
  "language_info": {
   "codemirror_mode": {
    "name": "ipython",
    "version": 3
   },
   "file_extension": ".py",
   "mimetype": "text/x-python",
   "name": "python",
   "nbconvert_exporter": "python",
   "pygments_lexer": "ipython3",
   "version": "3.12.9"
  }
 },
 "nbformat": 4,
 "nbformat_minor": 2
}
